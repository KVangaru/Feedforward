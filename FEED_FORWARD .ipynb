{
 "cells": [
  {
   "cell_type": "code",
   "execution_count": 1,
   "id": "4d2e3a94",
   "metadata": {},
   "outputs": [],
   "source": [
    "import torch\n",
    "import torch.nn as nn\n",
    "import torch.optim as optim"
   ]
  },
  {
   "cell_type": "code",
   "execution_count": null,
   "id": "a7f4879e",
   "metadata": {},
   "outputs": [],
   "source": [
    "# feed forward netwrok"
   ]
  },
  {
   "cell_type": "code",
   "execution_count": 2,
   "id": "31a5719a",
   "metadata": {},
   "outputs": [],
   "source": [
    "class FeedForward(nn.Module):\n",
    "    def __init__(self, input_size, hidden_size, output_size):\n",
    "        super(FeedForward, self).__init__()#assigmnet\n",
    "        self.fc1 = nn.Linear(input_size, hidden_size)\n",
    "        self.relu = nn.ReLU()\n",
    "        self.fc2 = nn.Linear(hidden_size, output_size)\n",
    "         \n",
    "    def forward(self,x):\n",
    "        out = self.fc1(x)\n",
    "        out = self.relu(out)\n",
    "        out = self.fc2(out)\n",
    "        \n",
    "        return out"
   ]
  },
  {
   "cell_type": "code",
   "execution_count": 3,
   "id": "4d7d0e9f",
   "metadata": {},
   "outputs": [],
   "source": [
    "input_size = 4\n",
    "hidden_size = 5\n",
    "output_size = 3"
   ]
  },
  {
   "cell_type": "code",
   "execution_count": 4,
   "id": "274b06f2",
   "metadata": {},
   "outputs": [],
   "source": [
    "model = FeedForward(input_size, hidden_size, output_size)"
   ]
  },
  {
   "cell_type": "code",
   "execution_count": 5,
   "id": "b3d5a83b",
   "metadata": {},
   "outputs": [
    {
     "data": {
      "text/plain": [
       "FeedForward(\n",
       "  (fc1): Linear(in_features=4, out_features=5, bias=True)\n",
       "  (relu): ReLU()\n",
       "  (fc2): Linear(in_features=5, out_features=3, bias=True)\n",
       ")"
      ]
     },
     "execution_count": 5,
     "metadata": {},
     "output_type": "execute_result"
    }
   ],
   "source": [
    "model"
   ]
  },
  {
   "cell_type": "code",
   "execution_count": null,
   "id": "9bb45dc3",
   "metadata": {},
   "outputs": [],
   "source": [
    "# loss function and optimizer"
   ]
  },
  {
   "cell_type": "code",
   "execution_count": 25,
   "id": "2d103f8f",
   "metadata": {},
   "outputs": [],
   "source": [
    "criterion = nn.CrossEntropyLoss()\n",
    "optimizer = optim.SGD(model.parameters(), lr = 0.001)"
   ]
  },
  {
   "cell_type": "code",
   "execution_count": 26,
   "id": "061ca15b",
   "metadata": {},
   "outputs": [
    {
     "data": {
      "text/plain": [
       "FeedForward(\n",
       "  (fc1): Linear(in_features=4, out_features=5, bias=True)\n",
       "  (relu): ReLU()\n",
       "  (fc2): Linear(in_features=5, out_features=3, bias=True)\n",
       ")"
      ]
     },
     "execution_count": 26,
     "metadata": {},
     "output_type": "execute_result"
    }
   ],
   "source": [
    "model"
   ]
  },
  {
   "cell_type": "code",
   "execution_count": null,
   "id": "b3042531",
   "metadata": {},
   "outputs": [],
   "source": []
  },
  {
   "cell_type": "code",
   "execution_count": null,
   "id": "5bff825f",
   "metadata": {},
   "outputs": [],
   "source": [
    "# training"
   ]
  },
  {
   "cell_type": "code",
   "execution_count": 19,
   "id": "614223c8",
   "metadata": {},
   "outputs": [],
   "source": [
    "input_data = torch.tensor([[1.0,2.0,3.0,4.0], [4.0, 5.0,6.0,7.0]])"
   ]
  },
  {
   "cell_type": "code",
   "execution_count": 20,
   "id": "f0f37d38",
   "metadata": {},
   "outputs": [
    {
     "data": {
      "text/plain": [
       "tensor([[1., 2., 3., 4.],\n",
       "        [4., 5., 6., 7.]])"
      ]
     },
     "execution_count": 20,
     "metadata": {},
     "output_type": "execute_result"
    }
   ],
   "source": [
    "input_data"
   ]
  },
  {
   "cell_type": "code",
   "execution_count": 21,
   "id": "8371309c",
   "metadata": {},
   "outputs": [],
   "source": [
    "target = torch.tensor([0,2])"
   ]
  },
  {
   "cell_type": "code",
   "execution_count": 22,
   "id": "2f44e896",
   "metadata": {},
   "outputs": [
    {
     "data": {
      "text/plain": [
       "tensor([0, 2])"
      ]
     },
     "execution_count": 22,
     "metadata": {},
     "output_type": "execute_result"
    }
   ],
   "source": [
    "target"
   ]
  },
  {
   "cell_type": "code",
   "execution_count": 23,
   "id": "1b8ecba4",
   "metadata": {},
   "outputs": [
    {
     "data": {
      "text/plain": [
       "tensor([[ 0.2476,  0.2154, -0.0512],\n",
       "        [ 0.5629,  0.5771,  0.1112]], grad_fn=<AddmmBackward>)"
      ]
     },
     "execution_count": 23,
     "metadata": {},
     "output_type": "execute_result"
    }
   ],
   "source": [
    "# feed forward\n",
    "output = model(input_data)\n",
    "output"
   ]
  },
  {
   "cell_type": "code",
   "execution_count": 30,
   "id": "76360cdb",
   "metadata": {},
   "outputs": [
    {
     "name": "stdout",
     "output_type": "stream",
     "text": [
      "epoch [100/1000], loss:  0.5972\n",
      "epoch [200/1000], loss:  0.5919\n",
      "epoch [300/1000], loss:  0.5869\n",
      "epoch [400/1000], loss:  0.5819\n",
      "epoch [500/1000], loss:  0.5770\n",
      "epoch [600/1000], loss:  0.5723\n",
      "epoch [700/1000], loss:  0.5676\n",
      "epoch [800/1000], loss:  0.5629\n",
      "epoch [900/1000], loss:  0.5584\n",
      "epoch [1000/1000], loss:  0.5539\n"
     ]
    }
   ],
   "source": [
    "# back propagation\n",
    "num_epochs = 1000\n",
    "\n",
    "for epoch in range(num_epochs):\n",
    "    output = model(input_data)\n",
    "    \n",
    "    loss = criterion(output, target)\n",
    "    \n",
    "    optimizer.zero_grad()\n",
    "    loss.backward()\n",
    "    optimizer.step()\n",
    "    \n",
    "    if (epoch+1) % 100 == 0:\n",
    "        print(f\"epoch [{epoch+1}/{num_epochs}], loss: {loss.item(): .4f}\")"
   ]
  },
  {
   "cell_type": "code",
   "execution_count": null,
   "id": "03ef81fb",
   "metadata": {},
   "outputs": [],
   "source": [
    "model"
   ]
  },
  {
   "cell_type": "code",
   "execution_count": 28,
   "id": "ec09b632",
   "metadata": {},
   "outputs": [
    {
     "name": "stdout",
     "output_type": "stream",
     "text": [
      "tensor([[ 0.9043, -0.6774,  1.2467],\n",
      "        [ 1.7523, -0.7300,  2.5345]])\n",
      "predcited class is: [2 2]\n",
      "actual  class is: [0 2]\n"
     ]
    }
   ],
   "source": [
    "with torch.no_grad():\n",
    "    output = model(input_data)\n",
    "    print(output)\n",
    "#     print(\"----------\")\n",
    "#     print(torch.max(output.data, 1))\n",
    "#     print()\n",
    "    _, predicted = torch.max(output.data, 1)\n",
    "    print(f\"predcited class is: {predicted.numpy()}\")\n",
    "    print(f\"actual  class is: {target.numpy()}\")\n",
    "    "
   ]
  },
  {
   "cell_type": "code",
   "execution_count": null,
   "id": "b45f20a1",
   "metadata": {},
   "outputs": [],
   "source": []
  },
  {
   "cell_type": "code",
   "execution_count": null,
   "id": "3c89890d",
   "metadata": {},
   "outputs": [],
   "source": [
    "predicted"
   ]
  },
  {
   "cell_type": "code",
   "execution_count": null,
   "id": "76ef7eca",
   "metadata": {},
   "outputs": [],
   "source": []
  }
 ],
 "metadata": {
  "kernelspec": {
   "display_name": "Python 3 (ipykernel)",
   "language": "python",
   "name": "python3"
  },
  "language_info": {
   "codemirror_mode": {
    "name": "ipython",
    "version": 3
   },
   "file_extension": ".py",
   "mimetype": "text/x-python",
   "name": "python",
   "nbconvert_exporter": "python",
   "pygments_lexer": "ipython3",
   "version": "3.7.8"
  }
 },
 "nbformat": 4,
 "nbformat_minor": 5
}
